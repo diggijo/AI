{
  "nbformat": 4,
  "nbformat_minor": 0,
  "metadata": {
    "colab": {
      "provenance": [],
      "collapsed_sections": [
        "-V12NTcL208r",
        "PGWoCS4oD8Cu",
        "eXb9WWV5EBjO",
        "JlncPRVaDPQn",
        "ZkvsOR_7DXEX",
        "R-lesXdvDafX",
        "yNQLv6YJD0bd"
      ]
    },
    "kernelspec": {
      "name": "python3",
      "display_name": "Python 3"
    },
    "language_info": {
      "name": "python"
    }
  },
  "cells": [
    {
      "cell_type": "code",
      "source": [
        "import copy"
      ],
      "metadata": {
        "id": "n6jog2Is3h_d"
      },
      "execution_count": null,
      "outputs": []
    },
    {
      "cell_type": "markdown",
      "source": [
        "# Current Board Class"
      ],
      "metadata": {
        "id": "HDxSCS1HhclY"
      }
    },
    {
      "cell_type": "code",
      "execution_count": null,
      "metadata": {
        "id": "DuXUE-SAqNkJ"
      },
      "outputs": [],
      "source": [
        "class CurrentBoard:\n",
        "  def __init__(self):\n",
        "    # Initialize the game board with empty spaces\n",
        "    self.board = [[' ' for _ in range(5)] for _ in range(3)]\n",
        "    # Set initial positions for the hare and hounds\n",
        "    self.board[1][4] = 'H'\n",
        "    self.board[0][1] = 'A'\n",
        "    self.board[1][0] = 'B'\n",
        "    self.board[2][1] = 'C'\n",
        "    # Determine the current state of the game\n",
        "    self.state = self.state_of_board()\n",
        "    # Dictionary to map move indices to positions\n",
        "    self.move_index_mapping = {}\n",
        "\n",
        "  # Display the current state of the board\n",
        "  def display(self, game_display=False, player_piece = None):\n",
        "    for i in range(3):\n",
        "            for j in range(5):\n",
        "                if self.board[i][j] not in ['H', 'A', 'B', 'C']:\n",
        "                    self.board[i][j] = ' '\n",
        "    if game_display:\n",
        "      possible_moves = self.all_possible_moves(player_piece)\n",
        "      self.move_index_mapping = {}\n",
        "      ind = 1\n",
        "      for move in possible_moves:\n",
        "          x, y = move\n",
        "          self.move_index_mapping[ind] = (x, y)\n",
        "          self.board[x][y] = str(ind)\n",
        "          ind += 1\n",
        "    print(self.board[0][0] + \"  \" + self.board[0][1] + \"--\" + self.board[0][2] + \"--\" + self.board[0][3] + \"  \" + self.board[0][4])\n",
        "    print(\" / | \\\\|/ | \\\\ \")\n",
        "    print(self.board[1][0] + \"--\" + self.board[1][1] + \"--\" + self.board[1][2] + \"--\" + self.board[1][3] + \"--\" + self.board[1][4])\n",
        "    print(\" \\\\ | /|\\\\ | / \")\n",
        "    print(self.board[2][0] + \"  \" + self.board[2][1] + \"--\" + self.board[2][2] + \"--\" + self.board[2][3] + \"  \" + self.board[2][4])\n",
        "\n",
        "  # Return the move index mapping\n",
        "  def index_mapping(self):\n",
        "    return self.move_index_mapping\n",
        "\n",
        "  # Move the hare to a new position\n",
        "  def move_hare(self, x, y):\n",
        "    for i in range(len(self.board)):\n",
        "      for j in range(len(self.board[i])):\n",
        "          if self.board[i][j] == 'H':\n",
        "              self.board[i][j] = ' '\n",
        "              break\n",
        "    self.board[x][y] = 'H'\n",
        "    return True\n",
        "\n",
        "  # Move a hound to a new position\n",
        "  def move_hound(self, hound_symbol, x, y):\n",
        "    for i in range(len(self.board)):\n",
        "        for j in range(len(self.board[i])):\n",
        "            if self.board[i][j] == hound_symbol:\n",
        "                self.board[i][j] = ' '\n",
        "                break\n",
        "    self.board[x][y] = hound_symbol\n",
        "\n",
        "    return True\n",
        "\n",
        "  # Get the position of a player piece on the board\n",
        "  def get_position(self, player_piece):\n",
        "    for i in range(len(self.board)):\n",
        "      for j in range(len(self.board[i])):\n",
        "        if self.board[i][j] == player_piece:\n",
        "          position = (i, j)\n",
        "    return position\n",
        "\n",
        "  # Get the positions of all hounds on the board\n",
        "  def get_hound_positions(self):\n",
        "    hound_positions = []\n",
        "    for i in range(len(self.board)):\n",
        "      for j in range(len(self.board[i])):\n",
        "        if self.board[i][j] in ['A', 'B', 'C']:\n",
        "          hound_positions.append((i, j))\n",
        "    return hound_positions\n",
        "\n",
        "  # Determine illegal moves based on the current position\n",
        "  def get_illegal_moves(self, current_position):\n",
        "    illegal_moves = [(0, 0), (0, 4), (2, 0), (2, 4)]\n",
        "\n",
        "    if current_position == (0, 2) or current_position == (2, 2):\n",
        "      illegal_moves.extend([(1, 1), (1, 3)])\n",
        "\n",
        "    elif current_position == (1,1) or current_position == (1,3):\n",
        "      illegal_moves.extend([(0, 2), (2, 2)])\n",
        "\n",
        "    return illegal_moves\n",
        "\n",
        "  # Switch player pieces\n",
        "  def other(self, piece):\n",
        "    if piece == \"X\":\n",
        "        return \"H\"\n",
        "    return \"X\"\n",
        "\n",
        "  # Generate all possible moves for a player piece\n",
        "  def all_possible_moves(self, player_piece):\n",
        "    possible_moves = []\n",
        "    for i in range(len(self.board)):\n",
        "      for j in range(len(self.board[i])):\n",
        "          if self.board[i][j] == player_piece:\n",
        "            current_position = (i,j)\n",
        "            if player_piece == \"H\":\n",
        "                moves = [\n",
        "                    (i - 1, j), (i + 1, j),  # Sideways\n",
        "                    (i, j - 1), (i, j + 1),  # Forward and Backwards\n",
        "                    (i - 1, j - 1), (i - 1, j + 1),  # Diagonally\n",
        "                    (i + 1, j - 1), (i + 1, j + 1)  # Diagonally\n",
        "                ]\n",
        "            else:\n",
        "                moves = [\n",
        "                    (i, j + 1),  # Forward\n",
        "                    (i + 1, j), (i -1, j), # Sideways\n",
        "                    (i - 1, j + 1), (i + 1, j + 1)  # Diagonally\n",
        "                ]\n",
        "\n",
        "            valid_moves = [(x, y) for (x, y) in moves if 0 <= x < len(self.board) and 0 <= y < len(self.board[0]) and (x, y) not in self.get_illegal_moves(current_position) and self.board[x][y] == \" \"]\n",
        "            possible_moves.extend(valid_moves)\n",
        "\n",
        "    return possible_moves\n",
        "\n",
        "  # Generate all possible moves for hounds\n",
        "  def all_hound_moves(self):\n",
        "    hound_moves = []\n",
        "\n",
        "    hound_moves.extend(self.all_possible_moves(\"A\"))\n",
        "    hound_moves.extend(self.all_possible_moves(\"B\"))\n",
        "    hound_moves.extend(self.all_possible_moves(\"C\"))\n",
        "\n",
        "    return hound_moves\n",
        "\n",
        "  # Check if hounds are in a line\n",
        "  def hounds_in_line(self, p1, p2, p3):\n",
        "    if p1[1] == p2[1] == p3[1]:\n",
        "        return 3\n",
        "    elif p1[1] == p2[1] or p1[1] == p3[1] or p2[1] == p3[1]:\n",
        "        return 2\n",
        "    else:\n",
        "        return 1\n",
        "\n",
        "  # Create a deep copy of the current board\n",
        "  def get_board_copy(self):\n",
        "    return copy.deepcopy(self.board)\n",
        "\n",
        "  # Determine the current state of the board\n",
        "  def state_of_board(self):\n",
        "    hare_position = self.get_position(\"H\")\n",
        "    hound_positions = self.get_hound_positions()\n",
        "\n",
        "    hare_to_left = all(hare_position[1] <= hound_position[1] for hound_position in hound_positions)\n",
        "\n",
        "    if hare_position and hare_to_left:\n",
        "        return \"H\"\n",
        "\n",
        "    elif not self.all_possible_moves(\"H\"):\n",
        "      return \"X\"\n",
        "\n",
        "    return \"U\"\n",
        "\n",
        "  # Check if the hare is boxed in by hounds\n",
        "  def hare_boxed_in(self):\n",
        "    hare_position = self.get_position(\"H\")\n",
        "    h1, h2, h3 = self.get_hound_positions()\n",
        "\n",
        "    i, j = hare_position\n",
        "\n",
        "    boxed_in_top_left = [(i,j-1), (i-1, j-1), (i-1, j)]\n",
        "    boxed_in_bottom_left = [(i, j-1), (i+1, j-1), (i+1, j)]\n",
        "\n",
        "    if all(position in [h1, h2, h3] for position in boxed_in_top_left):\n",
        "      if i == 2:\n",
        "        return True\n",
        "    elif all(position in [h1, h2, h3] for position in boxed_in_bottom_left):\n",
        "      if i == 0:\n",
        "        return True\n",
        "    else:\n",
        "        return False\n",
        "\n",
        "    return False\n",
        "\n",
        "  # Evaluate the current board and calculate its score\n",
        "  def evaluate_board(self):\n",
        "    score = 0\n",
        "    hare_position = self.get_position(\"H\")\n",
        "    hound_positions = self.get_hound_positions()\n",
        "    h1, h2, h3 = self.get_hound_positions()\n",
        "    MIDDLE_BOARD = (1, 2)\n",
        "    HARE_START = (1, 4)\n",
        "\n",
        "    # Check if hare has reached the middle piece\n",
        "    if hare_position == MIDDLE_BOARD:\n",
        "        score += 5000\n",
        "\n",
        "    # Calculate the number of moves a hare can make\n",
        "    all_hare_moves = self.all_possible_moves(\"H\")\n",
        "\n",
        "    forward_hare_moves = 0\n",
        "    sideways_hare_moves = 0\n",
        "    backwards_hare_moves = 0\n",
        "\n",
        "    hare_x, hare_y = hare_position\n",
        "    forward_hare_positions = []\n",
        "    sideways_hare_positions = []\n",
        "\n",
        "    for move in all_hare_moves:\n",
        "        # Forward moves (y < hare position)\n",
        "        if move[1] < hare_position[1]:\n",
        "            forward_hare_positions.append(move)\n",
        "            forward_hare_moves += 1\n",
        "\n",
        "        # Sideways moves (y == hare position)\n",
        "        elif move[1] == hare_position[1]:\n",
        "            sideways_hare_positions.append(move)\n",
        "            sideways_hare_moves += 1\n",
        "\n",
        "        # Backwards moves (y > hare position)\n",
        "        elif move[1] > hare_position[1]:\n",
        "            backwards_hare_moves += 1\n",
        "\n",
        "    score += (forward_hare_moves * 3) #Forward moves worth more\n",
        "    score += sideways_hare_moves\n",
        "    score -= (backwards_hare_moves * 2) #Backwards moves are in favour of hounds\n",
        "\n",
        "    # Calculate the number of forward moves hounds can make\n",
        "    forward_hound_moves = 0\n",
        "    forward_hound_positions = []\n",
        "    sideways_hound_moves = 0\n",
        "\n",
        "    for hound in [\"A\", \"B\", \"C\"]:\n",
        "        all_hound_moves = self.all_possible_moves(hound)\n",
        "        hound_position = self.get_position(hound)\n",
        "\n",
        "        for move in all_hound_moves:\n",
        "            # Forward moves (y > hound position)\n",
        "            if move[1] > hound_position[1]:\n",
        "                forward_hound_positions.append(move)\n",
        "                forward_hound_moves += 1\n",
        "\n",
        "            # Sideways moves (y == hound position)\n",
        "            elif move[1] == hound_position[1]:\n",
        "                sideways_hound_moves += 1\n",
        "\n",
        "\n",
        "            if move in forward_hare_positions:\n",
        "                score -= 300\n",
        "            elif move in sideways_hare_positions:\n",
        "                score -= 150\n",
        "\n",
        "    score -= forward_hound_moves\n",
        "\n",
        "    # If hound can move into a forward hare position\n",
        "    for fhm in forward_hound_positions:\n",
        "      if(fhm in forward_hare_positions):\n",
        "        score -= 250\n",
        "\n",
        "\n",
        "    # Check if the hounds are in line\n",
        "    num_hounds_in_line = self.hounds_in_line(h1, h2, h3)\n",
        "    if num_hounds_in_line == 3:\n",
        "      score -= 600\n",
        "    elif self.hounds_in_line == 2:\n",
        "      score -= 200\n",
        "    else:\n",
        "      score += 200\n",
        "\n",
        "    # Check if hound reached the middle piece\n",
        "    if MIDDLE_BOARD in [h1, h2, h3]:\n",
        "        score -= 5000\n",
        "\n",
        "    #Check if a hound has gone to the end piece & cannot be moved again\n",
        "    if HARE_START in [h1, h2, h3]:\n",
        "      score += 3000\n",
        "\n",
        "    if (self.hare_boxed_in()):\n",
        "      score -= 800\n",
        "    else:\n",
        "      score += 150\n",
        "\n",
        "    # Hares only move is back to the start\n",
        "    if (len(all_hare_moves) == 1 and all_hare_moves[0] == HARE_START):\n",
        "      score -= 4000\n",
        "\n",
        "    # If hare will have no moves\n",
        "    if (self.all_possible_moves(\"H\") is None):\n",
        "      score -10000\n",
        "    return score"
      ]
    },
    {
      "cell_type": "markdown",
      "source": [
        "# Search Tree Node Class"
      ],
      "metadata": {
        "id": "DVvQKf6ShX8Q"
      }
    },
    {
      "cell_type": "code",
      "source": [
        "class SearchTreeNode:\n",
        "  def __init__(self, board_instance, playing_as, ply=0, max_ply=3):\n",
        "    self.children = []\n",
        "    self.value_is_assigned = False\n",
        "    self.ply_depth = ply\n",
        "    self.max_ply = max_ply\n",
        "    self.current_board = board_instance\n",
        "    self.move_for = playing_as\n",
        "    self.value = self.current_board.evaluate_board()\n",
        "\n",
        "    # Check if the game is unfinished and maximum depth is not reached\n",
        "    if self.current_board.state == \"U\":\n",
        "      if self.ply_depth < self.max_ply:\n",
        "        # Generate child nodes if games unfinished\n",
        "          self.generate_children()\n",
        "      else:\n",
        "        # Assign board value if maximum depth is reached\n",
        "          self.value = self.current_board.evaluate_board()\n",
        "          self.value_is_assigned = True\n",
        "    else:\n",
        "      # If the game is finished\n",
        "      # Computers Move\n",
        "      if ((self.ply_depth % 2) == 0):\n",
        "        if(self.move_for == self.current_board.state_of_board()):\n",
        "          self.value = -10000\n",
        "        else:\n",
        "          self.value = 10000\n",
        "\n",
        "      # Players Move\n",
        "      else:\n",
        "        if(self.move_for == self.current_board.state_of_board()):\n",
        "          self.value = 10000\n",
        "        else:\n",
        "          self.value = -10000\n",
        "\n",
        "      self.value_is_assigned = True\n",
        "\n",
        "  def minimax(self):\n",
        "    # If the node's value is already assigned, return it\n",
        "    if self.value_is_assigned:\n",
        "      return self.value\n",
        "\n",
        "    # Sort children nodes based on their minimax values\n",
        "    self.children = sorted(self.children, key = lambda x:x.minimax(), reverse = True)\n",
        "\n",
        "    if ((self.ply_depth % 2) == 0):\n",
        "      # computers move\n",
        "      if self.children:\n",
        "            self.value = self.children[-1].value  # Smallest value for computer\n",
        "      else:\n",
        "            self.value = -10000\n",
        "    else:\n",
        "      #players move\n",
        "      if self.children:\n",
        "          self.value = self.children[0].value  # Highest value for player\n",
        "      else:\n",
        "          self.value = 10000\n",
        "\n",
        "    self.value_is_assigned = True\n",
        "\n",
        "    return self.value\n",
        "\n",
        "  def generate_children(self):\n",
        "    # Generate child nodes based on the current player's move\n",
        "    if self.move_for == \"H\":\n",
        "      for move in self.current_board.all_possible_moves(self.move_for):\n",
        "        # Create a copy of the current board\n",
        "          board_for_next_move = CurrentBoard()\n",
        "          board_for_next_move.board = self.current_board.get_board_copy()\n",
        "          x, y = move\n",
        "          # Apply hare's move to the new board\n",
        "          board_for_next_move.move_hare(x, y)\n",
        "          # Create a child node with the new board and switch player\n",
        "          self.children.append(SearchTreeNode(board_for_next_move, self.current_board.other(self.move_for), ply=self.ply_depth + 1, max_ply=self.max_ply))\n",
        "    elif self.move_for == \"X\":\n",
        "      for hound_symbol in [\"A\", \"B\", \"C\"]:\n",
        "        for move in self.current_board.all_possible_moves(hound_symbol):\n",
        "          # Create a copy of the current board\n",
        "          board_for_next_move = CurrentBoard()\n",
        "          board_for_next_move.board = self.current_board.get_board_copy()\n",
        "          x, y = move\n",
        "          # Apply hound's move to the new board\n",
        "          board_for_next_move.move_hound(hound_symbol, x, y)\n",
        "          # Create a child node with the new board and switch player\n",
        "          self.children.append(SearchTreeNode(board_for_next_move, self.current_board.other(self.move_for), ply=self.ply_depth + 1, max_ply=self.max_ply))"
      ],
      "metadata": {
        "id": "_tC-JTtkyi45"
      },
      "execution_count": null,
      "outputs": []
    },
    {
      "cell_type": "markdown",
      "source": [
        "#Play Game Class"
      ],
      "metadata": {
        "id": "9ntaCsmg5-VY"
      }
    },
    {
      "cell_type": "code",
      "source": [
        "def play_Hare_and_Hounds():\n",
        "  # Prompt the user to choose a piece to play as\n",
        "  response = input(\"Do you wish to play Hare (H) or Hound (X)?\")\n",
        "  # Create a new instance of the CurrentBoard class\n",
        "  cb = CurrentBoard()\n",
        "  # Determine which piece the player is playing as\n",
        "  player_is_playing = cb.other(cb.other(response))\n",
        "\n",
        "  # Set the initial turn based on the player's piece\n",
        "  if player_is_playing == \"H\":\n",
        "    players_turn = True\n",
        "  else:\n",
        "    players_turn = False\n",
        "\n",
        "   # Main game loop\n",
        "  for _ in range(21): #21 Iterations. Handles the lack of a method to implement \"Stalling\" by hounds.\n",
        "    if players_turn:\n",
        "      if player_is_playing == \"H\":\n",
        "        # Display the board highlighting possible moves for the hare\n",
        "        cb.display(game_display=True, player_piece = player_is_playing)\n",
        "\n",
        "      else:\n",
        "        # Display the board and prompt the player to select a hound\n",
        "        cb.display()\n",
        "        hound = input(\"Select your hound (A, B, C):\").upper()\n",
        "        cb.display(game_display=True, player_piece = hound)\n",
        "\n",
        "      # Prompt the player to make a move\n",
        "      choice = input(\"Make your move \")\n",
        "      ind = int(choice)\n",
        "      index_map = cb.index_mapping()\n",
        "      x, y = index_map[ind]\n",
        "\n",
        "      # Execute the selected move\n",
        "      if player_is_playing == \"H\":\n",
        "        cb.move_hare(x, y)\n",
        "      else:\n",
        "        cb.move_hound(hound, x, y)\n",
        "\n",
        "      # Display the updated board\n",
        "      cb.display()\n",
        "\n",
        "    else:\n",
        "      # Computer's turn\n",
        "      # Create a search tree node and apply minimax algorithm\n",
        "      search_tree = SearchTreeNode(cb, cb.other(player_is_playing))\n",
        "      search_tree.minimax()\n",
        "      # Update the current board with the computer's move\n",
        "      cb = search_tree.children[-1].current_board\n",
        "\n",
        "    # Check the game state after each turn\n",
        "    if cb.state_of_board() != \"U\":\n",
        "      if cb.state_of_board() == \"H\":\n",
        "        print( \"Hare Wins\")\n",
        "\n",
        "      elif cb.state_of_board() == \"X\":\n",
        "        print( \"Hounds Win\")\n",
        "        cb.display()\n",
        "      break\n",
        "\n",
        "    # Switch turns\n",
        "    players_turn = not players_turn\n",
        "\n",
        "  # Handle stalemate\n",
        "  if cb.state_of_board() == \"U\":\n",
        "        print(\"Stalemate - Hare Wins\")"
      ],
      "metadata": {
        "id": "G0qOEAKIRsIO"
      },
      "execution_count": null,
      "outputs": []
    },
    {
      "cell_type": "markdown",
      "source": [
        "# Play Game"
      ],
      "metadata": {
        "id": "VuYBoNJQgBjn"
      }
    },
    {
      "cell_type": "code",
      "source": [
        "play_Hare_and_Hounds()"
      ],
      "metadata": {
        "colab": {
          "base_uri": "https://localhost:8080/",
          "height": 1000
        },
        "id": "uM1A4bhfTGM6",
        "outputId": "40869cb1-f450-4111-d4dd-befce1f017ff"
      },
      "execution_count": null,
      "outputs": [
        {
          "output_type": "stream",
          "name": "stdout",
          "text": [
            "Do you wish to play Hare (H) or Hound (X)?H\n",
            "Player piece: H\n",
            "Players turn: True\n",
            "   A-- --2   \n",
            " / | \\|/ | \\ \n",
            "B-- -- --1--H\n",
            " \\ | /|\\ | / \n",
            "   C-- --3   \n",
            "Make your move 1\n",
            "   A-- --    \n",
            " / | \\|/ | \\ \n",
            "B-- -- --H-- \n",
            " \\ | /|\\ | / \n",
            "   C-- --    \n",
            "   A-- --1   \n",
            " / | \\|/ | \\ \n",
            "B-- --C--H--3\n",
            " \\ | /|\\ | / \n",
            "    -- --2   \n",
            "Make your move 2\n",
            "   A-- --    \n",
            " / | \\|/ | \\ \n",
            "B-- --C-- -- \n",
            " \\ | /|\\ | / \n",
            "    -- --H   \n",
            "   A-- --    \n",
            " / | \\|/ | \\ \n",
            " --B--C--1--3\n",
            " \\ | /|\\ | / \n",
            "    --2--H   \n",
            "Make your move 2\n",
            "   A-- --    \n",
            " / | \\|/ | \\ \n",
            " --B--C-- -- \n",
            " \\ | /|\\ | / \n",
            "    --H--    \n",
            "   A-- --    \n",
            " / | \\|/ | \\ \n",
            " -- --C-- -- \n",
            " \\ | /|\\ | / \n",
            "   B--H--1   \n",
            "Make your move 1\n",
            "   A-- --    \n",
            " / | \\|/ | \\ \n",
            " -- --C-- -- \n",
            " \\ | /|\\ | / \n",
            "   B-- --H   \n",
            "   A-- --    \n",
            " / | \\|/ | \\ \n",
            " -- --C--1--2\n",
            " \\ | /|\\ | / \n",
            "    --B--H   \n",
            "Make your move 1\n",
            "   A-- --    \n",
            " / | \\|/ | \\ \n",
            " -- --C--H-- \n",
            " \\ | /|\\ | / \n",
            "    --B--    \n",
            "   A-- --1   \n",
            " / | \\|/ | \\ \n",
            " -- --C--H--2\n",
            " \\ | /|\\ | / \n",
            "    -- --B   \n",
            "Make your move 1\n",
            "   A-- --H   \n",
            " / | \\|/ | \\ \n",
            " -- --C-- -- \n",
            " \\ | /|\\ | / \n",
            "    -- --B   \n",
            "   A--1--H   \n",
            " / | \\|/ | \\ \n",
            " -- --C--B--2\n",
            " \\ | /|\\ | / \n",
            "    -- --    \n",
            "Make your move 1\n",
            "   A--H--    \n",
            " / | \\|/ | \\ \n",
            " -- --C--B-- \n",
            " \\ | /|\\ | / \n",
            "    -- --    \n",
            "   A--H--1   \n",
            " / | \\|/ | \\ \n",
            " -- --C-- -- \n",
            " \\ | /|\\ | / \n",
            "    -- --B   \n"
          ]
        },
        {
          "output_type": "error",
          "ename": "KeyboardInterrupt",
          "evalue": "Interrupted by user",
          "traceback": [
            "\u001b[0;31m---------------------------------------------------------------------------\u001b[0m",
            "\u001b[0;31mKeyboardInterrupt\u001b[0m                         Traceback (most recent call last)",
            "\u001b[0;32m<ipython-input-172-1208da945c3b>\u001b[0m in \u001b[0;36m<cell line: 1>\u001b[0;34m()\u001b[0m\n\u001b[0;32m----> 1\u001b[0;31m \u001b[0mplay_Hare_and_Hounds\u001b[0m\u001b[0;34m(\u001b[0m\u001b[0;34m)\u001b[0m\u001b[0;34m\u001b[0m\u001b[0;34m\u001b[0m\u001b[0m\n\u001b[0m",
            "\u001b[0;32m<ipython-input-159-3d58a079b5b4>\u001b[0m in \u001b[0;36mplay_Hare_and_Hounds\u001b[0;34m()\u001b[0m\n\u001b[1;32m     21\u001b[0m         \u001b[0mcb\u001b[0m\u001b[0;34m.\u001b[0m\u001b[0mdisplay\u001b[0m\u001b[0;34m(\u001b[0m\u001b[0mgame_display\u001b[0m\u001b[0;34m=\u001b[0m\u001b[0;32mTrue\u001b[0m\u001b[0;34m,\u001b[0m \u001b[0mplayer_piece\u001b[0m \u001b[0;34m=\u001b[0m \u001b[0mhound\u001b[0m\u001b[0;34m)\u001b[0m\u001b[0;34m\u001b[0m\u001b[0;34m\u001b[0m\u001b[0m\n\u001b[1;32m     22\u001b[0m \u001b[0;34m\u001b[0m\u001b[0m\n\u001b[0;32m---> 23\u001b[0;31m       \u001b[0mchoice\u001b[0m \u001b[0;34m=\u001b[0m \u001b[0minput\u001b[0m\u001b[0;34m(\u001b[0m\u001b[0;34m\"Make your move \"\u001b[0m\u001b[0;34m)\u001b[0m\u001b[0;34m\u001b[0m\u001b[0;34m\u001b[0m\u001b[0m\n\u001b[0m\u001b[1;32m     24\u001b[0m       \u001b[0mind\u001b[0m \u001b[0;34m=\u001b[0m \u001b[0mint\u001b[0m\u001b[0;34m(\u001b[0m\u001b[0mchoice\u001b[0m\u001b[0;34m)\u001b[0m\u001b[0;34m\u001b[0m\u001b[0;34m\u001b[0m\u001b[0m\n\u001b[1;32m     25\u001b[0m       \u001b[0mindex_map\u001b[0m \u001b[0;34m=\u001b[0m \u001b[0mcb\u001b[0m\u001b[0;34m.\u001b[0m\u001b[0mindex_mapping\u001b[0m\u001b[0;34m(\u001b[0m\u001b[0;34m)\u001b[0m\u001b[0;34m\u001b[0m\u001b[0;34m\u001b[0m\u001b[0m\n",
            "\u001b[0;32m/usr/local/lib/python3.10/dist-packages/ipykernel/kernelbase.py\u001b[0m in \u001b[0;36mraw_input\u001b[0;34m(self, prompt)\u001b[0m\n\u001b[1;32m    849\u001b[0m                 \u001b[0;34m\"raw_input was called, but this frontend does not support input requests.\"\u001b[0m\u001b[0;34m\u001b[0m\u001b[0;34m\u001b[0m\u001b[0m\n\u001b[1;32m    850\u001b[0m             )\n\u001b[0;32m--> 851\u001b[0;31m         return self._input_request(str(prompt),\n\u001b[0m\u001b[1;32m    852\u001b[0m             \u001b[0mself\u001b[0m\u001b[0;34m.\u001b[0m\u001b[0m_parent_ident\u001b[0m\u001b[0;34m,\u001b[0m\u001b[0;34m\u001b[0m\u001b[0;34m\u001b[0m\u001b[0m\n\u001b[1;32m    853\u001b[0m             \u001b[0mself\u001b[0m\u001b[0;34m.\u001b[0m\u001b[0m_parent_header\u001b[0m\u001b[0;34m,\u001b[0m\u001b[0;34m\u001b[0m\u001b[0;34m\u001b[0m\u001b[0m\n",
            "\u001b[0;32m/usr/local/lib/python3.10/dist-packages/ipykernel/kernelbase.py\u001b[0m in \u001b[0;36m_input_request\u001b[0;34m(self, prompt, ident, parent, password)\u001b[0m\n\u001b[1;32m    893\u001b[0m             \u001b[0;32mexcept\u001b[0m \u001b[0mKeyboardInterrupt\u001b[0m\u001b[0;34m:\u001b[0m\u001b[0;34m\u001b[0m\u001b[0;34m\u001b[0m\u001b[0m\n\u001b[1;32m    894\u001b[0m                 \u001b[0;31m# re-raise KeyboardInterrupt, to truncate traceback\u001b[0m\u001b[0;34m\u001b[0m\u001b[0;34m\u001b[0m\u001b[0m\n\u001b[0;32m--> 895\u001b[0;31m                 \u001b[0;32mraise\u001b[0m \u001b[0mKeyboardInterrupt\u001b[0m\u001b[0;34m(\u001b[0m\u001b[0;34m\"Interrupted by user\"\u001b[0m\u001b[0;34m)\u001b[0m \u001b[0;32mfrom\u001b[0m \u001b[0;32mNone\u001b[0m\u001b[0;34m\u001b[0m\u001b[0;34m\u001b[0m\u001b[0m\n\u001b[0m\u001b[1;32m    896\u001b[0m             \u001b[0;32mexcept\u001b[0m \u001b[0mException\u001b[0m \u001b[0;32mas\u001b[0m \u001b[0me\u001b[0m\u001b[0;34m:\u001b[0m\u001b[0;34m\u001b[0m\u001b[0;34m\u001b[0m\u001b[0m\n\u001b[1;32m    897\u001b[0m                 \u001b[0mself\u001b[0m\u001b[0;34m.\u001b[0m\u001b[0mlog\u001b[0m\u001b[0;34m.\u001b[0m\u001b[0mwarning\u001b[0m\u001b[0;34m(\u001b[0m\u001b[0;34m\"Invalid Message:\"\u001b[0m\u001b[0;34m,\u001b[0m \u001b[0mexc_info\u001b[0m\u001b[0;34m=\u001b[0m\u001b[0;32mTrue\u001b[0m\u001b[0;34m)\u001b[0m\u001b[0;34m\u001b[0m\u001b[0;34m\u001b[0m\u001b[0m\n",
            "\u001b[0;31mKeyboardInterrupt\u001b[0m: Interrupted by user"
          ]
        }
      ]
    },
    {
      "cell_type": "markdown",
      "source": [
        "#Testing"
      ],
      "metadata": {
        "id": "-V12NTcL208r"
      }
    },
    {
      "cell_type": "markdown",
      "source": [
        "## Display Board"
      ],
      "metadata": {
        "id": "PGWoCS4oD8Cu"
      }
    },
    {
      "cell_type": "code",
      "source": [
        "cb = CurrentBoard()"
      ],
      "metadata": {
        "id": "orKa3NkCqVDk"
      },
      "execution_count": null,
      "outputs": []
    },
    {
      "cell_type": "code",
      "source": [
        "cb.display()"
      ],
      "metadata": {
        "colab": {
          "base_uri": "https://localhost:8080/"
        },
        "id": "Unmw99bkqXcG",
        "outputId": "86c44882-c22a-4062-ade4-31a72d0c1a1e"
      },
      "execution_count": null,
      "outputs": [
        {
          "output_type": "stream",
          "name": "stdout",
          "text": [
            "   A-- --    \n",
            " / | \\|/ | \\ \n",
            "B-- -- -- --H\n",
            " \\ | /|\\ | / \n",
            "   C-- --    \n"
          ]
        }
      ]
    },
    {
      "cell_type": "code",
      "source": [
        "cb.possible_forward_moves(\"H\")"
      ],
      "metadata": {
        "colab": {
          "base_uri": "https://localhost:8080/"
        },
        "id": "8N4UN3TdqtMj",
        "outputId": "e1d53a9a-7ad9-499c-9e43-e9bfb605f6a1"
      },
      "execution_count": null,
      "outputs": [
        {
          "output_type": "execute_result",
          "data": {
            "text/plain": [
              "3"
            ]
          },
          "metadata": {},
          "execution_count": 288
        }
      ]
    },
    {
      "cell_type": "code",
      "source": [
        "cb.evaluate_board()"
      ],
      "metadata": {
        "colab": {
          "base_uri": "https://localhost:8080/"
        },
        "id": "EjWysFzbo418",
        "outputId": "3737ae18-7940-48c2-95f2-f8e1353d8f04"
      },
      "execution_count": null,
      "outputs": [
        {
          "output_type": "execute_result",
          "data": {
            "text/plain": [
              "-2"
            ]
          },
          "metadata": {},
          "execution_count": 289
        }
      ]
    },
    {
      "cell_type": "markdown",
      "source": [
        "##Check Moves"
      ],
      "metadata": {
        "id": "eXb9WWV5EBjO"
      }
    },
    {
      "cell_type": "code",
      "source": [
        "cb.all_possible_moves(\"H\")"
      ],
      "metadata": {
        "colab": {
          "base_uri": "https://localhost:8080/"
        },
        "id": "X-xBgMtfu49y",
        "outputId": "9bfeb391-6ebe-4646-8c6a-576d003c59ac"
      },
      "execution_count": null,
      "outputs": [
        {
          "output_type": "execute_result",
          "data": {
            "text/plain": [
              "[(1, 3), (0, 3), (2, 3)]"
            ]
          },
          "metadata": {},
          "execution_count": 290
        }
      ]
    },
    {
      "cell_type": "code",
      "source": [
        "cb.all_possible_moves(\"A\")"
      ],
      "metadata": {
        "colab": {
          "base_uri": "https://localhost:8080/"
        },
        "id": "qW73DIs-w4ns",
        "outputId": "5e5b9830-433c-4f6c-eb2d-860e74502173"
      },
      "execution_count": null,
      "outputs": [
        {
          "output_type": "execute_result",
          "data": {
            "text/plain": [
              "[(0, 2), (1, 1), (1, 2)]"
            ]
          },
          "metadata": {},
          "execution_count": 291
        }
      ]
    },
    {
      "cell_type": "code",
      "source": [
        "cb.all_possible_moves(\"B\")"
      ],
      "metadata": {
        "colab": {
          "base_uri": "https://localhost:8080/"
        },
        "id": "8N9YG4P4Aykp",
        "outputId": "87a7d068-8b8d-40f5-bda5-3b4681079057"
      },
      "execution_count": null,
      "outputs": [
        {
          "output_type": "execute_result",
          "data": {
            "text/plain": [
              "[(1, 1)]"
            ]
          },
          "metadata": {},
          "execution_count": 292
        }
      ]
    },
    {
      "cell_type": "code",
      "source": [
        "cb.all_possible_moves(\"C\")"
      ],
      "metadata": {
        "colab": {
          "base_uri": "https://localhost:8080/"
        },
        "id": "ZlrefybyA1M3",
        "outputId": "0eab5e38-ddc6-4536-9ce9-89721e939d8e"
      },
      "execution_count": null,
      "outputs": [
        {
          "output_type": "execute_result",
          "data": {
            "text/plain": [
              "[(2, 2), (1, 1), (1, 2)]"
            ]
          },
          "metadata": {},
          "execution_count": 293
        }
      ]
    },
    {
      "cell_type": "code",
      "source": [
        "cb.all_hound_moves()"
      ],
      "metadata": {
        "colab": {
          "base_uri": "https://localhost:8080/"
        },
        "id": "eoeoF8u5eNlL",
        "outputId": "fe7cf672-d10c-42b7-eb2c-2a314db5c892"
      },
      "execution_count": null,
      "outputs": [
        {
          "output_type": "execute_result",
          "data": {
            "text/plain": [
              "[(0, 2), (1, 1), (1, 2), (1, 1), (2, 2), (1, 1), (1, 2)]"
            ]
          },
          "metadata": {},
          "execution_count": 294
        }
      ]
    },
    {
      "cell_type": "code",
      "source": [
        "cb.get_hound_positions()"
      ],
      "metadata": {
        "colab": {
          "base_uri": "https://localhost:8080/"
        },
        "id": "Ot9hrqw_5xZU",
        "outputId": "b749bf7e-a870-44f8-f745-7977c9bdde5b"
      },
      "execution_count": null,
      "outputs": [
        {
          "output_type": "execute_result",
          "data": {
            "text/plain": [
              "[(0, 1), (1, 0), (2, 1)]"
            ]
          },
          "metadata": {},
          "execution_count": 295
        }
      ]
    },
    {
      "cell_type": "code",
      "source": [
        "test_board = CurrentBoard()\n",
        "for i in range(len(test_board.board)):\n",
        "    for j in range(len(test_board.board[i])):\n",
        "        if test_board.board[i][j] in ['H', 'A', 'B', 'C']:\n",
        "            test_board.board[i][j] = ' '\n",
        "\n",
        "test_board.board[0][2] = 'H'\n",
        "test_board.board[2][2] = 'A'\n",
        "test_board.board[1][4] = 'B'\n",
        "test_board.board[0][3] = 'C'\n",
        "\n",
        "test_board.display()"
      ],
      "metadata": {
        "colab": {
          "base_uri": "https://localhost:8080/"
        },
        "id": "NRc66iUxFrHo",
        "outputId": "599f3dd5-a0c9-40b1-87c4-3320a78705f8"
      },
      "execution_count": null,
      "outputs": [
        {
          "output_type": "stream",
          "name": "stdout",
          "text": [
            "    --H--C   \n",
            " / | \\|/ | \\ \n",
            " -- -- -- --B\n",
            " \\ | /|\\ | / \n",
            "    --A--    \n"
          ]
        }
      ]
    },
    {
      "cell_type": "code",
      "source": [
        "test_board.all_forward_hound_moves()"
      ],
      "metadata": {
        "colab": {
          "base_uri": "https://localhost:8080/"
        },
        "id": "yy45AMB3zkBS",
        "outputId": "0530ed98-6efb-4879-8fd8-e529fb459ea3"
      },
      "execution_count": null,
      "outputs": [
        {
          "output_type": "execute_result",
          "data": {
            "text/plain": [
              "1"
            ]
          },
          "metadata": {},
          "execution_count": 297
        }
      ]
    },
    {
      "cell_type": "code",
      "source": [
        "test_board.all_possible_moves(\"H\")"
      ],
      "metadata": {
        "colab": {
          "base_uri": "https://localhost:8080/"
        },
        "id": "3DY-5YR_F1u4",
        "outputId": "a87b360a-6a96-4b81-84a0-176f74ea89cc"
      },
      "execution_count": null,
      "outputs": [
        {
          "output_type": "execute_result",
          "data": {
            "text/plain": [
              "[(1, 2), (0, 1)]"
            ]
          },
          "metadata": {},
          "execution_count": 298
        }
      ]
    },
    {
      "cell_type": "code",
      "source": [
        "test_board.all_possible_moves(\"A\")"
      ],
      "metadata": {
        "colab": {
          "base_uri": "https://localhost:8080/"
        },
        "id": "qJTv7EW9F9Qs",
        "outputId": "c3f5b5ab-1834-4e3a-c69d-96701952e412"
      },
      "execution_count": null,
      "outputs": [
        {
          "output_type": "execute_result",
          "data": {
            "text/plain": [
              "[(2, 3), (1, 2)]"
            ]
          },
          "metadata": {},
          "execution_count": 299
        }
      ]
    },
    {
      "cell_type": "markdown",
      "source": [
        "## Testing State of Board"
      ],
      "metadata": {
        "id": "JlncPRVaDPQn"
      }
    },
    {
      "cell_type": "markdown",
      "source": [
        "### Hare Wins"
      ],
      "metadata": {
        "id": "ZkvsOR_7DXEX"
      }
    },
    {
      "cell_type": "code",
      "source": [
        "test_board = CurrentBoard()\n",
        "for i in range(len(test_board.board)):\n",
        "    for j in range(len(test_board.board[i])):\n",
        "        if test_board.board[i][j] in ['H', 'A', 'B', 'C']:\n",
        "            test_board.board[i][j] = ' '\n",
        "\n",
        "test_board.board[1][1] = 'H'\n",
        "test_board.board[2][2] = 'A'\n",
        "test_board.board[1][4] = 'B'\n",
        "test_board.board[0][3] = 'C'\n",
        "\n",
        "test_board.display()"
      ],
      "metadata": {
        "colab": {
          "base_uri": "https://localhost:8080/"
        },
        "id": "DFMgH9IzCROV",
        "outputId": "3ed236be-847e-4280-b350-da77e9cc0b7d"
      },
      "execution_count": null,
      "outputs": [
        {
          "output_type": "stream",
          "name": "stdout",
          "text": [
            "    -- --C   \n",
            " / | \\|/ | \\ \n",
            " --H-- -- --B\n",
            " \\ | /|\\ | / \n",
            "    --A--    \n"
          ]
        }
      ]
    },
    {
      "cell_type": "code",
      "source": [
        "test_board.state_of_board()"
      ],
      "metadata": {
        "colab": {
          "base_uri": "https://localhost:8080/"
        },
        "id": "CZ270mZ6C2TU",
        "outputId": "95287973-6741-455e-9d31-dd3e09bcaea9"
      },
      "execution_count": null,
      "outputs": [
        {
          "output_type": "execute_result",
          "data": {
            "text/plain": [
              "'H'"
            ],
            "application/vnd.google.colaboratory.intrinsic+json": {
              "type": "string"
            }
          },
          "metadata": {},
          "execution_count": 301
        }
      ]
    },
    {
      "cell_type": "code",
      "source": [
        "test_st = SearchTreeNode(test_board, \"H\")"
      ],
      "metadata": {
        "id": "iHtPMTAgU5uL"
      },
      "execution_count": null,
      "outputs": []
    },
    {
      "cell_type": "code",
      "source": [
        "test_board.possible_forward_moves(\"H\")"
      ],
      "metadata": {
        "colab": {
          "base_uri": "https://localhost:8080/"
        },
        "id": "nbaxUIbirhDm",
        "outputId": "f2e92e7a-9ed7-484c-d44d-3ae7a376dfb7"
      },
      "execution_count": null,
      "outputs": [
        {
          "output_type": "execute_result",
          "data": {
            "text/plain": [
              "1"
            ]
          },
          "metadata": {},
          "execution_count": 303
        }
      ]
    },
    {
      "cell_type": "code",
      "source": [
        "test_st.children"
      ],
      "metadata": {
        "id": "OMB3JqNJblU3",
        "colab": {
          "base_uri": "https://localhost:8080/"
        },
        "outputId": "d24933a2-4c48-4f63-b8cf-0b465d217b52"
      },
      "execution_count": null,
      "outputs": [
        {
          "output_type": "execute_result",
          "data": {
            "text/plain": [
              "[<__main__.SearchTreeNode at 0x7d61ae11ed10>,\n",
              " <__main__.SearchTreeNode at 0x7d6193511d50>,\n",
              " <__main__.SearchTreeNode at 0x7d61ae1d5120>,\n",
              " <__main__.SearchTreeNode at 0x7d61ae1d60e0>]"
            ]
          },
          "metadata": {},
          "execution_count": 304
        }
      ]
    },
    {
      "cell_type": "code",
      "source": [
        "test_st.children[0].children[0].current_board.display()"
      ],
      "metadata": {
        "colab": {
          "base_uri": "https://localhost:8080/"
        },
        "id": "kxz-ovpiO0bY",
        "outputId": "d902c527-b76c-4574-8a14-26ceba3f2144"
      },
      "execution_count": null,
      "outputs": [
        {
          "output_type": "stream",
          "name": "stdout",
          "text": [
            "   H-- --C   \n",
            " / | \\|/ | \\ \n",
            " -- -- -- --B\n",
            " \\ | /|\\ | / \n",
            "    -- --A   \n"
          ]
        }
      ]
    },
    {
      "cell_type": "markdown",
      "source": [
        "### Hounds Win"
      ],
      "metadata": {
        "id": "R-lesXdvDafX"
      }
    },
    {
      "cell_type": "code",
      "source": [
        "test_board = CurrentBoard()\n",
        "for i in range(len(test_board.board)):\n",
        "    for j in range(len(test_board.board[i])):\n",
        "        if test_board.board[i][j] in ['H', 'A', 'B', 'C']:\n",
        "            test_board.board[i][j] = ' '\n",
        "\n",
        "test_board.board[1][4] = 'H'\n",
        "test_board.board[2][3] = 'A'\n",
        "test_board.board[1][2] = 'B'\n",
        "test_board.board[0][3] = 'C'\n",
        "\n",
        "test_board.display()"
      ],
      "metadata": {
        "colab": {
          "base_uri": "https://localhost:8080/"
        },
        "id": "YKuBgeOtDfEc",
        "outputId": "40f0261b-70de-4edc-c942-2bdd41c7245b"
      },
      "execution_count": null,
      "outputs": [
        {
          "output_type": "stream",
          "name": "stdout",
          "text": [
            "    -- --C   \n",
            " / | \\|/ | \\ \n",
            " -- --B-- --H\n",
            " \\ | /|\\ | / \n",
            "    -- --A   \n"
          ]
        }
      ]
    },
    {
      "cell_type": "code",
      "source": [
        "test_board.state_of_board()"
      ],
      "metadata": {
        "colab": {
          "base_uri": "https://localhost:8080/"
        },
        "id": "qJgQgH02DteM",
        "outputId": "65c51a36-cc7e-459f-de97-b3050dc48a9c"
      },
      "execution_count": null,
      "outputs": [
        {
          "output_type": "execute_result",
          "data": {
            "text/plain": [
              "'U'"
            ],
            "application/vnd.google.colaboratory.intrinsic+json": {
              "type": "string"
            }
          },
          "metadata": {},
          "execution_count": 307
        }
      ]
    },
    {
      "cell_type": "markdown",
      "source": [
        "## Search Tree"
      ],
      "metadata": {
        "id": "yNQLv6YJD0bd"
      }
    },
    {
      "cell_type": "code",
      "source": [
        "test_st = SearchTreeNode(test_board, 'X')"
      ],
      "metadata": {
        "id": "yAS0ZS2mUbHq"
      },
      "execution_count": null,
      "outputs": []
    },
    {
      "cell_type": "code",
      "source": [
        "test_st.children"
      ],
      "metadata": {
        "colab": {
          "base_uri": "https://localhost:8080/"
        },
        "id": "1k0tLjU3bKe1",
        "outputId": "2a3b465c-5261-4ffd-87bf-256670d7261f"
      },
      "execution_count": null,
      "outputs": [
        {
          "output_type": "execute_result",
          "data": {
            "text/plain": [
              "[<__main__.SearchTreeNode at 0x7d61984b3700>,\n",
              " <__main__.SearchTreeNode at 0x7d61984b2650>,\n",
              " <__main__.SearchTreeNode at 0x7d6198422d40>,\n",
              " <__main__.SearchTreeNode at 0x7d6198422830>,\n",
              " <__main__.SearchTreeNode at 0x7d6198423b20>]"
            ]
          },
          "metadata": {},
          "execution_count": 309
        }
      ]
    },
    {
      "cell_type": "code",
      "source": [
        "test_st.children[1].current_board.display()"
      ],
      "metadata": {
        "colab": {
          "base_uri": "https://localhost:8080/"
        },
        "id": "do7b9rkZPQUK",
        "outputId": "9dbf2cd5-86d9-4404-ba16-702b3f74f290"
      },
      "execution_count": null,
      "outputs": [
        {
          "output_type": "stream",
          "name": "stdout",
          "text": [
            "    -- --C   \n",
            " / | \\|/ | \\ \n",
            " -- -- --B--H\n",
            " \\ | /|\\ | / \n",
            "    -- --A   \n"
          ]
        }
      ]
    },
    {
      "cell_type": "code",
      "source": [
        "st = SearchTreeNode(cb, 'H')"
      ],
      "metadata": {
        "id": "YAWLwJxR2EI7"
      },
      "execution_count": null,
      "outputs": []
    },
    {
      "cell_type": "code",
      "source": [
        "st.minimax()"
      ],
      "metadata": {
        "colab": {
          "base_uri": "https://localhost:8080/"
        },
        "id": "PPM2utZQmIzn",
        "outputId": "ad9758ee-20f8-4390-db68-9ab3c9922ac4"
      },
      "execution_count": null,
      "outputs": [
        {
          "output_type": "execute_result",
          "data": {
            "text/plain": [
              "-3"
            ]
          },
          "metadata": {},
          "execution_count": 312
        }
      ]
    },
    {
      "cell_type": "code",
      "source": [
        "st.current_board.evaluate_board()"
      ],
      "metadata": {
        "colab": {
          "base_uri": "https://localhost:8080/"
        },
        "id": "NpWFhHXvtYnY",
        "outputId": "7e17008b-67e2-47ac-e9fd-259e3e66185d"
      },
      "execution_count": null,
      "outputs": [
        {
          "output_type": "execute_result",
          "data": {
            "text/plain": [
              "-2"
            ]
          },
          "metadata": {},
          "execution_count": 313
        }
      ]
    },
    {
      "cell_type": "code",
      "source": [
        "st.children[1].children[3].children[2].children[1].value"
      ],
      "metadata": {
        "colab": {
          "base_uri": "https://localhost:8080/"
        },
        "id": "1clci2NuyQ3i",
        "outputId": "55bc5a3f-8cd6-41f6-f6cc-45da36e21a53"
      },
      "execution_count": null,
      "outputs": [
        {
          "output_type": "execute_result",
          "data": {
            "text/plain": [
              "749"
            ]
          },
          "metadata": {},
          "execution_count": 314
        }
      ]
    },
    {
      "cell_type": "code",
      "source": [
        "st.children[1].children[3].children[2].children[1].current_board.display()"
      ],
      "metadata": {
        "colab": {
          "base_uri": "https://localhost:8080/"
        },
        "id": "dGcf_Rprse4f",
        "outputId": "f5b70766-479e-4872-f2e4-e72fd5336519"
      },
      "execution_count": null,
      "outputs": [
        {
          "output_type": "stream",
          "name": "stdout",
          "text": [
            "   A-- --    \n",
            " / | \\|/ | \\ \n",
            " --B--H-- -- \n",
            " \\ | /|\\ | / \n",
            "    --C--    \n"
          ]
        }
      ]
    },
    {
      "cell_type": "code",
      "source": [
        "st.children[1].children"
      ],
      "metadata": {
        "colab": {
          "base_uri": "https://localhost:8080/"
        },
        "id": "BN3KEKdos6S_",
        "outputId": "00c4177d-3327-4265-cd09-e67ee6422490"
      },
      "execution_count": null,
      "outputs": [
        {
          "output_type": "execute_result",
          "data": {
            "text/plain": [
              "[<__main__.SearchTreeNode at 0x7d61ae1d2020>,\n",
              " <__main__.SearchTreeNode at 0x7d61ae1d0790>,\n",
              " <__main__.SearchTreeNode at 0x7d61ae1f8640>,\n",
              " <__main__.SearchTreeNode at 0x7d61ae1f9690>,\n",
              " <__main__.SearchTreeNode at 0x7d61ae1fa260>,\n",
              " <__main__.SearchTreeNode at 0x7d61ae1fb340>,\n",
              " <__main__.SearchTreeNode at 0x7d61ae1fbf40>]"
            ]
          },
          "metadata": {},
          "execution_count": 316
        }
      ]
    },
    {
      "cell_type": "code",
      "source": [
        "st.children[1].children[2].value"
      ],
      "metadata": {
        "colab": {
          "base_uri": "https://localhost:8080/"
        },
        "id": "tqXDoFiTs1-_",
        "outputId": "37373139-5046-4043-9aac-290aaa974d7b"
      },
      "execution_count": null,
      "outputs": [
        {
          "output_type": "execute_result",
          "data": {
            "text/plain": [
              "-3"
            ]
          },
          "metadata": {},
          "execution_count": 317
        }
      ]
    },
    {
      "cell_type": "code",
      "source": [
        "st.children[1].children[3].value"
      ],
      "metadata": {
        "colab": {
          "base_uri": "https://localhost:8080/"
        },
        "id": "0JVJeMJHsjrP",
        "outputId": "d13ddca3-f411-4a76-a60d-3249f5af44b9"
      },
      "execution_count": null,
      "outputs": [
        {
          "output_type": "execute_result",
          "data": {
            "text/plain": [
              "-3"
            ]
          },
          "metadata": {},
          "execution_count": 318
        }
      ]
    },
    {
      "cell_type": "code",
      "source": [
        "st.children[1].children[3].children[2].children[1].current_board.display()"
      ],
      "metadata": {
        "colab": {
          "base_uri": "https://localhost:8080/"
        },
        "id": "UjKnO_JTsKze",
        "outputId": "b5af66fe-9ef8-4e2b-9168-35715e415435"
      },
      "execution_count": null,
      "outputs": [
        {
          "output_type": "stream",
          "name": "stdout",
          "text": [
            "   A-- --    \n",
            " / | \\|/ | \\ \n",
            " --B--H-- -- \n",
            " \\ | /|\\ | / \n",
            "    --C--    \n"
          ]
        }
      ]
    },
    {
      "cell_type": "code",
      "source": [
        "st.children[0].children[4].current_board.display()"
      ],
      "metadata": {
        "colab": {
          "base_uri": "https://localhost:8080/"
        },
        "id": "2LNJnURJKTCq",
        "outputId": "953f65b2-0cd2-4e94-a7dd-ef087eba4ed9"
      },
      "execution_count": null,
      "outputs": [
        {
          "output_type": "stream",
          "name": "stdout",
          "text": [
            "   A-- --    \n",
            " / | \\|/ | \\ \n",
            "B-- -- --H-- \n",
            " \\ | /|\\ | / \n",
            "    --C--    \n"
          ]
        }
      ]
    },
    {
      "cell_type": "code",
      "source": [
        "st.children[0].children[4].children[0].children[0].current_board.display()"
      ],
      "metadata": {
        "colab": {
          "base_uri": "https://localhost:8080/"
        },
        "id": "eUDat4EDKeIe",
        "outputId": "324f1549-8cc5-4fcd-9910-f0d2ae10ce33"
      },
      "execution_count": null,
      "outputs": [
        {
          "output_type": "stream",
          "name": "stdout",
          "text": [
            "    --A--H   \n",
            " / | \\|/ | \\ \n",
            "B-- -- -- -- \n",
            " \\ | /|\\ | / \n",
            "    --C--    \n"
          ]
        }
      ]
    }
  ]
}