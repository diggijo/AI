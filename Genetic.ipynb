{
  "nbformat": 4,
  "nbformat_minor": 0,
  "metadata": {
    "colab": {
      "provenance": []
    },
    "kernelspec": {
      "name": "python3",
      "display_name": "Python 3"
    },
    "language_info": {
      "name": "python"
    }
  },
  "cells": [
    {
      "cell_type": "code",
      "source": [
        "import numpy as np\n",
        "from copy import deepcopy"
      ],
      "metadata": {
        "id": "oFJ4y5_qplCJ"
      },
      "execution_count": null,
      "outputs": []
    },
    {
      "cell_type": "code",
      "source": [
        "def sphere(x):\n",
        "  total = 0\n",
        "  for i in x:\n",
        "    total+=i**2\n",
        "\n",
        "  return total"
      ],
      "metadata": {
        "id": "ZXRRg661m79Y"
      },
      "execution_count": null,
      "outputs": []
    },
    {
      "cell_type": "code",
      "source": [
        "x = (1,2,3)"
      ],
      "metadata": {
        "id": "nDVslpQtnC6o"
      },
      "execution_count": null,
      "outputs": []
    },
    {
      "cell_type": "code",
      "source": [
        "class problem:\n",
        "  def __init__(self):\n",
        "    self.number_of_genes = 8\n",
        "    self.max_value = 10\n",
        "    self.min_value = -10\n",
        "    self.cost_function = sphere"
      ],
      "metadata": {
        "id": "96zG8LoEoLHq"
      },
      "execution_count": null,
      "outputs": []
    },
    {
      "cell_type": "code",
      "source": [
        "sphere(x)"
      ],
      "metadata": {
        "colab": {
          "base_uri": "https://localhost:8080/"
        },
        "id": "NffWhmvznIUY",
        "outputId": "ba594309-12d2-4703-b2ed-9570bd04aa91"
      },
      "execution_count": null,
      "outputs": [
        {
          "output_type": "execute_result",
          "data": {
            "text/plain": [
              "14"
            ]
          },
          "metadata": {},
          "execution_count": 5
        }
      ]
    },
    {
      "cell_type": "code",
      "execution_count": null,
      "metadata": {
        "id": "9kI1a_hUlQya"
      },
      "outputs": [],
      "source": [
        "class individual:\n",
        "  def __init__(self, prob):\n",
        "    self.chromosome = np.random.uniform(prob.min_value, prob.max_value, prob.number_of_genes)\n",
        "    self.cost = prob.cost_function(self.chromosome)\n",
        "\n",
        "  def mutate(self, rate_of_gene_mutation, range_of_mutation):\n",
        "    for index in range(len(self.chromosome)):\n",
        "      if np.random.uniform() < rate_of_gene_mutation:\n",
        "        self.chromosome[index] == np.random.randn() * range_of_mutation\n",
        "\n",
        "  def crossover(self, parent2, explore_crossover):\n",
        "    alpha = np.random.uniform(-explore_crossover, 1 + explore_crossover)\n",
        "    child1 = deepcopy(self)\n",
        "    child2 = deepcopy(parent2)\n",
        "    child1.chromosome = alpha * self.chromosome + (1-alpha) * parent2.chromosome\n",
        "    child2.chromosome = alpha * parent2.chromosome + (1-alpha) * self.chromosome\n",
        "\n",
        "    return child1, child2"
      ]
    },
    {
      "cell_type": "code",
      "source": [
        "p1 = problem()"
      ],
      "metadata": {
        "id": "k4Cktke5sF25"
      },
      "execution_count": null,
      "outputs": []
    },
    {
      "cell_type": "code",
      "source": [
        "ind1 = individual(p1)"
      ],
      "metadata": {
        "id": "LbqBUz8_SCtE"
      },
      "execution_count": null,
      "outputs": []
    },
    {
      "cell_type": "code",
      "source": [
        "ind2 = individual(p1)"
      ],
      "metadata": {
        "id": "eyHdp2zssKm5"
      },
      "execution_count": null,
      "outputs": []
    },
    {
      "cell_type": "code",
      "source": [
        "ind1.chromosome"
      ],
      "metadata": {
        "colab": {
          "base_uri": "https://localhost:8080/"
        },
        "id": "PXH2f6_vsWQ5",
        "outputId": "306d4ac2-de60-44db-fdf3-1f289d3b9316"
      },
      "execution_count": null,
      "outputs": [
        {
          "output_type": "execute_result",
          "data": {
            "text/plain": [
              "array([-7.92810656, -5.2443076 , -9.28088458, -2.09309229,  0.02063635,\n",
              "        1.06864416, -6.9101347 ,  7.33190362])"
            ]
          },
          "metadata": {},
          "execution_count": 10
        }
      ]
    },
    {
      "cell_type": "code",
      "source": [
        "ind2.chromosome"
      ],
      "metadata": {
        "colab": {
          "base_uri": "https://localhost:8080/"
        },
        "id": "1bIAlfROSH0j",
        "outputId": "7df0a2a5-f501-43f6-8f79-999f1a376a17"
      },
      "execution_count": null,
      "outputs": [
        {
          "output_type": "execute_result",
          "data": {
            "text/plain": [
              "array([-8.25587415, -0.93613661, -4.90255699,  3.67553717,  5.81857654,\n",
              "       -2.33621462,  3.00679283, -8.46134336])"
            ]
          },
          "metadata": {},
          "execution_count": 11
        }
      ]
    },
    {
      "cell_type": "code",
      "source": [
        "ind1.cost"
      ],
      "metadata": {
        "colab": {
          "base_uri": "https://localhost:8080/"
        },
        "id": "lx_b2w0Hsxhy",
        "outputId": "6ffbf118-ea80-4150-e183-d34ad1bbed72"
      },
      "execution_count": null,
      "outputs": [
        {
          "output_type": "execute_result",
          "data": {
            "text/plain": [
              "283.52268829900987"
            ]
          },
          "metadata": {},
          "execution_count": 12
        }
      ]
    },
    {
      "cell_type": "code",
      "source": [
        "ind2.cost"
      ],
      "metadata": {
        "colab": {
          "base_uri": "https://localhost:8080/"
        },
        "id": "iqshMtwGSMCT",
        "outputId": "e655ae59-aab2-43d7-b7a5-583789364b86"
      },
      "execution_count": null,
      "outputs": [
        {
          "output_type": "execute_result",
          "data": {
            "text/plain": [
              "226.52931458580537"
            ]
          },
          "metadata": {},
          "execution_count": 13
        }
      ]
    },
    {
      "cell_type": "code",
      "source": [
        "c1, c2 = ind1.crossover(ind2, .3)"
      ],
      "metadata": {
        "id": "uyQCUb0hSbqr"
      },
      "execution_count": null,
      "outputs": []
    },
    {
      "cell_type": "code",
      "source": [
        "c1.chromosome"
      ],
      "metadata": {
        "id": "0RHAemK4wryJ",
        "colab": {
          "base_uri": "https://localhost:8080/"
        },
        "outputId": "01d719ed-273d-42bb-94f1-42ab98692e1a"
      },
      "execution_count": null,
      "outputs": [
        {
          "output_type": "execute_result",
          "data": {
            "text/plain": [
              "array([ -8.3009777 ,  -0.34329641,  -4.30006265,   4.46934862,\n",
              "         6.61642139,  -2.80475154,   4.37144465, -10.63462567])"
            ]
          },
          "metadata": {},
          "execution_count": 15
        }
      ]
    },
    {
      "cell_type": "code",
      "source": [
        "c2.chromosome"
      ],
      "metadata": {
        "colab": {
          "base_uri": "https://localhost:8080/"
        },
        "id": "5Ha4wUKhSU1T",
        "outputId": "95c883e4-84cc-42fc-ece8-a68a370a1255"
      },
      "execution_count": null,
      "outputs": [
        {
          "output_type": "execute_result",
          "data": {
            "text/plain": [
              "array([-7.88300301, -5.8371478 , -9.88337892, -2.88690374, -0.7772085 ,\n",
              "        1.53718108, -8.27478652,  9.50518593])"
            ]
          },
          "metadata": {},
          "execution_count": 16
        }
      ]
    },
    {
      "cell_type": "code",
      "source": [
        "class parameters:\n",
        "  def __init__(self):\n",
        "    self.population = 1000\n",
        "    self.number_of_generations = 100\n",
        "    self.child_rate_per_generation = 1\n",
        "    self.crossover_explore_rate = .2\n",
        "    self.rate_of_gene_mutation = .25\n",
        "    self.range_of_gene_mutation = .5"
      ],
      "metadata": {
        "id": "4GtgTwcyUkaj"
      },
      "execution_count": null,
      "outputs": []
    },
    {
      "cell_type": "code",
      "source": [
        "par1 = parameters()"
      ],
      "metadata": {
        "id": "wfJgQuK0YSaE"
      },
      "execution_count": null,
      "outputs": []
    },
    {
      "cell_type": "code",
      "source": [
        "def choose_indices_from(list_size):\n",
        "  index_1 = np.random.randint(list_size)\n",
        "  index_2 = np.random.randint(list_size)\n",
        "\n",
        "  if index_1 == index_2:\n",
        "    return choose_indices_from(list_size)\n",
        "\n",
        "  return index_1, index_2"
      ],
      "metadata": {
        "id": "9HcIbBI3b9lG"
      },
      "execution_count": null,
      "outputs": []
    },
    {
      "cell_type": "code",
      "source": [
        "def run_genetic(prob, params):\n",
        "  #Read in important info\n",
        "  cost_function = prob.cost_function\n",
        "  number_in_population = params.population\n",
        "  max_number_of_generations = params.number_of_generations\n",
        "  number_of_children_per_generation = params.child_rate_per_generation * number_in_population\n",
        "  explore_crossover = params.crossover_explore_rate\n",
        "  mutate_rate = params.rate_of_gene_mutation\n",
        "  mutate_range = params.range_of_gene_mutation\n",
        "\n",
        "  #Generate initial population\n",
        "  population = []\n",
        "\n",
        "  #Placeholder for best solution\n",
        "  best_solution = individual(p1)\n",
        "  best_solution.cost = np.infty\n",
        "\n",
        "  #Populate the population\n",
        "  for i in range(number_in_population):\n",
        "    new_individual = individual(p1)\n",
        "    population.append(new_individual)\n",
        "\n",
        "  #Find best individual\n",
        "  if new_individual.cost < best_solution.cost:\n",
        "    best_solution = deepcopy(new_individual)\n",
        "\n",
        "  #Generational Iteration\n",
        "  for _iteration in range(max_number_of_generations):\n",
        "    #Create children\n",
        "    children = []\n",
        "\n",
        "    while len(children) < number_of_children_per_generation:\n",
        "      parent1_index, parent2_index = choose_indices_from(len(population))\n",
        "      parent1 = population[parent1_index]\n",
        "      parent2 = population[parent2_index]\n",
        "\n",
        "      #Get children\n",
        "      c1, c2 = parent1.crossover(parent2, explore_crossover)\n",
        "      c1.mutate(mutate_rate, mutate_range)\n",
        "      c2.mutate(mutate_rate, mutate_range)\n",
        "\n",
        "      #Calculate cost\n",
        "      c1.cost = cost_function(c1.chromosome)\n",
        "      c2.cost = cost_function(c2.chromosome)\n",
        "\n",
        "      #Add children to list of children\n",
        "      children.append(c1)\n",
        "      children.append(c2)\n",
        "\n",
        "    #All children created.\n",
        "\n",
        "    #Add children to population\n",
        "    population += children\n",
        "\n",
        "    #Sort the population\n",
        "    population = sorted(population, key = lambda x: x.cost)\n",
        "\n",
        "    #Cull the population\n",
        "    population = population[:number_in_population]\n",
        "\n",
        "    #Adjust the best solution\n",
        "    if population[0].cost < best_solution.cost:\n",
        "      best_solution = deepcopy(population[0])\n",
        "\n",
        "    print(\"Best Solution for iteration \" + str(_iteration) + \" has cost of \" + str(best_solution.cost))\n",
        "\n",
        "  return best_solution"
      ],
      "metadata": {
        "id": "Yi3f1r90Tp7U"
      },
      "execution_count": null,
      "outputs": []
    },
    {
      "cell_type": "code",
      "source": [
        "bs = run_genetic(p1, par1)"
      ],
      "metadata": {
        "id": "EVYwXAZTYJeE",
        "colab": {
          "base_uri": "https://localhost:8080/"
        },
        "outputId": "a31e1e6e-c4a2-44b3-e6d6-0a9330129c15"
      },
      "execution_count": null,
      "outputs": [
        {
          "output_type": "stream",
          "name": "stdout",
          "text": [
            "Best Solution for iteration 0 has cost of 11.373632970141982\n",
            "Best Solution for iteration 1 has cost of 11.373632970141982\n",
            "Best Solution for iteration 2 has cost of 7.450441141097884\n",
            "Best Solution for iteration 3 has cost of 5.7542500876092495\n",
            "Best Solution for iteration 4 has cost of 3.637832648943064\n",
            "Best Solution for iteration 5 has cost of 1.1164753485614216\n",
            "Best Solution for iteration 6 has cost of 1.1015732415875197\n",
            "Best Solution for iteration 7 has cost of 0.5993186746679756\n",
            "Best Solution for iteration 8 has cost of 0.5993186746679756\n",
            "Best Solution for iteration 9 has cost of 0.20706153730502308\n",
            "Best Solution for iteration 10 has cost of 0.15484793392404542\n",
            "Best Solution for iteration 11 has cost of 0.1225264327783014\n",
            "Best Solution for iteration 12 has cost of 0.07465518970105461\n",
            "Best Solution for iteration 13 has cost of 0.07465518970105461\n",
            "Best Solution for iteration 14 has cost of 0.07465518970105461\n",
            "Best Solution for iteration 15 has cost of 0.04369238765121556\n",
            "Best Solution for iteration 16 has cost of 0.04369238765121556\n",
            "Best Solution for iteration 17 has cost of 0.030581060194528994\n",
            "Best Solution for iteration 18 has cost of 0.016219385685918693\n",
            "Best Solution for iteration 19 has cost of 0.016219385685918693\n",
            "Best Solution for iteration 20 has cost of 0.013837405453376287\n",
            "Best Solution for iteration 21 has cost of 0.01209669208851118\n",
            "Best Solution for iteration 22 has cost of 0.010215051918644014\n",
            "Best Solution for iteration 23 has cost of 0.010215051918644014\n",
            "Best Solution for iteration 24 has cost of 0.0061239813974298335\n",
            "Best Solution for iteration 25 has cost of 0.0061239813974298335\n",
            "Best Solution for iteration 26 has cost of 0.0061239813974298335\n",
            "Best Solution for iteration 27 has cost of 0.0061239813974298335\n",
            "Best Solution for iteration 28 has cost of 0.00514033958643943\n",
            "Best Solution for iteration 29 has cost of 0.002868568647332258\n",
            "Best Solution for iteration 30 has cost of 0.002868568647332258\n",
            "Best Solution for iteration 31 has cost of 0.0009898183748703428\n",
            "Best Solution for iteration 32 has cost of 0.0009898183748703428\n",
            "Best Solution for iteration 33 has cost of 0.0009898183748703428\n",
            "Best Solution for iteration 34 has cost of 0.0009898183748703428\n",
            "Best Solution for iteration 35 has cost of 0.0009898183748703428\n",
            "Best Solution for iteration 36 has cost of 0.0009898183748703428\n",
            "Best Solution for iteration 37 has cost of 0.0009898183748703428\n",
            "Best Solution for iteration 38 has cost of 0.0009898183748703428\n",
            "Best Solution for iteration 39 has cost of 0.0009898183748703428\n",
            "Best Solution for iteration 40 has cost of 0.0009898183748703428\n",
            "Best Solution for iteration 41 has cost of 0.0009898183748703428\n",
            "Best Solution for iteration 42 has cost of 0.0009898183748703428\n",
            "Best Solution for iteration 43 has cost of 0.0009898183748703428\n",
            "Best Solution for iteration 44 has cost of 0.0009898183748703428\n",
            "Best Solution for iteration 45 has cost of 0.0009898183748703428\n",
            "Best Solution for iteration 46 has cost of 0.0009898183748703428\n",
            "Best Solution for iteration 47 has cost of 0.0009854312567568408\n",
            "Best Solution for iteration 48 has cost of 0.0007599018211989354\n",
            "Best Solution for iteration 49 has cost of 0.0007599018211989354\n",
            "Best Solution for iteration 50 has cost of 0.0007175550511880614\n",
            "Best Solution for iteration 51 has cost of 0.0007175550511880614\n",
            "Best Solution for iteration 52 has cost of 0.0006112742652601042\n",
            "Best Solution for iteration 53 has cost of 0.0006112742652601042\n",
            "Best Solution for iteration 54 has cost of 0.0006112742652601042\n",
            "Best Solution for iteration 55 has cost of 0.00043673391056981955\n",
            "Best Solution for iteration 56 has cost of 0.00043673391056981955\n",
            "Best Solution for iteration 57 has cost of 0.00035284671760235875\n",
            "Best Solution for iteration 58 has cost of 0.00035284671760235875\n",
            "Best Solution for iteration 59 has cost of 0.00034786198635438064\n",
            "Best Solution for iteration 60 has cost of 0.00034786198635438064\n",
            "Best Solution for iteration 61 has cost of 0.0002538310083503015\n",
            "Best Solution for iteration 62 has cost of 0.0002538310083503015\n",
            "Best Solution for iteration 63 has cost of 0.0002538310083503015\n",
            "Best Solution for iteration 64 has cost of 0.0002538310083503015\n",
            "Best Solution for iteration 65 has cost of 0.00019752427586554653\n",
            "Best Solution for iteration 66 has cost of 0.00019752427586554653\n",
            "Best Solution for iteration 67 has cost of 0.00019752427586554653\n",
            "Best Solution for iteration 68 has cost of 0.00014644788054773996\n",
            "Best Solution for iteration 69 has cost of 0.00014644788054773996\n",
            "Best Solution for iteration 70 has cost of 0.00014644788054773996\n",
            "Best Solution for iteration 71 has cost of 0.00013955229342944527\n",
            "Best Solution for iteration 72 has cost of 0.00010689885083913918\n",
            "Best Solution for iteration 73 has cost of 0.00010689885083913918\n",
            "Best Solution for iteration 74 has cost of 0.00010689885083913918\n",
            "Best Solution for iteration 75 has cost of 0.00010689885083913918\n",
            "Best Solution for iteration 76 has cost of 6.98270510367798e-05\n",
            "Best Solution for iteration 77 has cost of 6.98270510367798e-05\n",
            "Best Solution for iteration 78 has cost of 5.281082364858198e-05\n",
            "Best Solution for iteration 79 has cost of 5.281082364858198e-05\n",
            "Best Solution for iteration 80 has cost of 5.281082364858198e-05\n",
            "Best Solution for iteration 81 has cost of 5.281082364858198e-05\n",
            "Best Solution for iteration 82 has cost of 5.281082364858198e-05\n",
            "Best Solution for iteration 83 has cost of 5.281082364858198e-05\n",
            "Best Solution for iteration 84 has cost of 5.0959051998688014e-05\n",
            "Best Solution for iteration 85 has cost of 5.0959051998688014e-05\n",
            "Best Solution for iteration 86 has cost of 3.995260099093282e-05\n",
            "Best Solution for iteration 87 has cost of 3.995260099093282e-05\n",
            "Best Solution for iteration 88 has cost of 3.995260099093282e-05\n",
            "Best Solution for iteration 89 has cost of 3.995260099093282e-05\n",
            "Best Solution for iteration 90 has cost of 3.995260099093282e-05\n",
            "Best Solution for iteration 91 has cost of 3.995260099093282e-05\n",
            "Best Solution for iteration 92 has cost of 3.995260099093282e-05\n",
            "Best Solution for iteration 93 has cost of 3.995260099093282e-05\n",
            "Best Solution for iteration 94 has cost of 3.995260099093282e-05\n",
            "Best Solution for iteration 95 has cost of 3.995260099093282e-05\n",
            "Best Solution for iteration 96 has cost of 3.995260099093282e-05\n",
            "Best Solution for iteration 97 has cost of 3.995260099093282e-05\n",
            "Best Solution for iteration 98 has cost of 3.995260099093282e-05\n",
            "Best Solution for iteration 99 has cost of 3.150994872205296e-05\n"
          ]
        }
      ]
    },
    {
      "cell_type": "code",
      "source": [
        "bs.cost"
      ],
      "metadata": {
        "colab": {
          "base_uri": "https://localhost:8080/"
        },
        "id": "Xbc-ZKmggD5n",
        "outputId": "15e4391f-08ab-421c-979e-9f0b10342ac4"
      },
      "execution_count": null,
      "outputs": [
        {
          "output_type": "execute_result",
          "data": {
            "text/plain": [
              "3.150994872205296e-05"
            ]
          },
          "metadata": {},
          "execution_count": 26
        }
      ]
    },
    {
      "cell_type": "code",
      "source": [
        "bs.chromosome"
      ],
      "metadata": {
        "colab": {
          "base_uri": "https://localhost:8080/"
        },
        "id": "Pk60s07hgOS_",
        "outputId": "8c9b94ad-daa8-4697-c9a8-be87a4f6d916"
      },
      "execution_count": null,
      "outputs": [
        {
          "output_type": "execute_result",
          "data": {
            "text/plain": [
              "array([-0.0013034 , -0.00189746,  0.00063714, -0.0019128 , -0.00015282,\n",
              "       -0.00058047,  0.00142965, -0.00444317])"
            ]
          },
          "metadata": {},
          "execution_count": 27
        }
      ]
    }
  ]
}